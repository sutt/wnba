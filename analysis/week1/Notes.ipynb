{
 "metadata": {
  "name": "",
  "signature": "sha256:18815fa10f73258d9cc9d24c5e903e927b8fa2a6c5d21c872ae838e4670c6106"
 },
 "nbformat": 3,
 "nbformat_minor": 0,
 "worksheets": [
  {
   "cells": [
    {
     "cell_type": "markdown",
     "metadata": {},
     "source": [
      "<b> SKLearn Page </b>\n",
      "\n",
      "ROC & Matthew's Phi\n",
      "http://scikit-learn.org/stable/modules/model_evaluation.html#receiver-operating-characteristic-roc"
     ]
    },
    {
     "cell_type": "markdown",
     "metadata": {},
     "source": [
      "<b> Stats </b>\n",
      "http://en.wikipedia.org/wiki/Logit\n"
     ]
    },
    {
     "cell_type": "markdown",
     "metadata": {},
     "source": [
      "<b> Pandas </b>\n",
      "\n",
      "http://www.gregreda.com/2013/10/26/working-with-pandas-dataframes/\n",
      "\n",
      "https://s3.amazonaws.com/quandl-static-content/Documents/Quandl+-+Pandas,+SciPy,+NumPy+Cheat+Sheet.pdf\n",
      "\n",
      "http://stackoverflow.com/questions/11941492/selecting-rows-from-a-pandas-dataframe-with-a-compound-hierarchical-index\n",
      "\n",
      "http://www.forbes.com/sites/oreillymedia/2014/02/24/easily-manipulate-terabyte-sized-datasets-with-graphlab/"
     ]
    },
    {
     "cell_type": "markdown",
     "metadata": {},
     "source": [
      "<b> Misc </b>; \n",
      "\n",
      "Amazon RDS http://aws.amazon.com/rds/\n",
      "\n",
      "http://derwiki.tumblr.com/post/24490758395/loading-half-a-billion-rows-into-mysql"
     ]
    },
    {
     "cell_type": "markdown",
     "metadata": {},
     "source": [
      "<b> SK-learn </b>\n",
      "\n",
      "http://scikit-learn.org/stable/modules/sgd.html\n",
      "\n",
      "http://scikit-learn.org/stable/modules/grid_search.html#grid-search"
     ]
    },
    {
     "cell_type": "code",
     "collapsed": false,
     "input": [],
     "language": "python",
     "metadata": {},
     "outputs": []
    }
   ],
   "metadata": {}
  }
 ]
}