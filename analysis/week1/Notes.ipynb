{
 "metadata": {
  "name": "",
  "signature": "sha256:af85ea3dab379b348355da1581265f195f83b38daa23e417917f58646f3382ae"
 },
 "nbformat": 3,
 "nbformat_minor": 0,
 "worksheets": [
  {
   "cells": [
    {
     "cell_type": "markdown",
     "metadata": {},
     "source": [
      "<b> SKLearn Page </b>\n",
      "\n",
      "ROC & Matthew's Phi\n",
      "http://scikit-learn.org/stable/modules/model_evaluation.html#receiver-operating-characteristic-roc"
     ]
    },
    {
     "cell_type": "markdown",
     "metadata": {},
     "source": [
      "<b> Stats </b>\n",
      "http://en.wikipedia.org/wiki/Logit\n"
     ]
    },
    {
     "cell_type": "markdown",
     "metadata": {},
     "source": [
      "<b> Pandas </b>\n",
      "\n",
      "http://www.gregreda.com/2013/10/26/working-with-pandas-dataframes/\n",
      "\n",
      "https://s3.amazonaws.com/quandl-static-content/Documents/Quandl+-+Pandas,+SciPy,+NumPy+Cheat+Sheet.pdf\n",
      "\n",
      "http://stackoverflow.com/questions/11941492/selecting-rows-from-a-pandas-dataframe-with-a-compound-hierarchical-index\n",
      "\n",
      "http://www.forbes.com/sites/oreillymedia/2014/02/24/easily-manipulate-terabyte-sized-datasets-with-graphlab/"
     ]
    },
    {
     "cell_type": "markdown",
     "metadata": {},
     "source": [
      "<b> Misc </b>; \n",
      "\n",
      "Amazon RDS http://aws.amazon.com/rds/\n",
      "\n",
      "http://derwiki.tumblr.com/post/24490758395/loading-half-a-billion-rows-into-mysql"
     ]
    },
    {
     "cell_type": "markdown",
     "metadata": {},
     "source": [
      "<b> SK-learn </b>\n",
      "\n",
      "http://scikit-learn.org/stable/modules/sgd.html\n",
      "\n",
      "http://scikit-learn.org/stable/modules/grid_search.html#grid-search"
     ]
    },
    {
     "cell_type": "markdown",
     "metadata": {},
     "source": [
      "<b> Blogs on VW / MLWave </b>\n",
      "\n",
      "http://mlwave.com/predicting-click-through-rates-with-online-machine-learning/#more-470\n",
      "\n",
      "J Langford ML/VW video\n",
      "http://techtalks.tv/talks/online-linear-learning-part-1/57924/\n",
      "\n",
      "http://blogs.technet.com/b/machinelearning/archive/2014/08/13/vowpal-wabbit-for-fast-learning.aspx\n",
      "\n",
      "https://github.com/MLWave/kaggle_acquire-valued-shoppers-challenge\n",
      "\n",
      "https://github.com/MLWave/kaggle-criteo\n",
      "\n",
      "Classification with scikit http://www.datarobot.com/blog/classification-with-scikit-learn/\n",
      "\n",
      "pandas one-liners\n",
      "http://www.analyticsvidhya.com/blog/2014/08/baby-steps-python-performing-exploratory-analysis-python/"
     ]
    },
    {
     "cell_type": "code",
     "collapsed": false,
     "input": [],
     "language": "python",
     "metadata": {},
     "outputs": []
    }
   ],
   "metadata": {}
  }
 ]
}