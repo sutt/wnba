{
 "metadata": {
  "name": "",
  "signature": "sha256:5d5725d0e05b7140a804359a166b465dcbcaa63a2b4d1789e69b19ed729c6bcd"
 },
 "nbformat": 3,
 "nbformat_minor": 0,
 "worksheets": [
  {
   "cells": [
    {
     "cell_type": "code",
     "collapsed": false,
     "input": [
      "import sys, numpy as np, sklearn, pandas as pd\n",
      "from matplotlib import pyplot as plt\n",
      "%matplotlib inline\n",
      "sys.path.append('../../pkg/')"
     ],
     "language": "python",
     "metadata": {},
     "outputs": [],
     "prompt_number": 1
    },
    {
     "cell_type": "code",
     "collapsed": false,
     "input": [
      "#df1 = pd.read_csv(\"../../data/main/train_10/training_1.csv\")\n",
      "print df1.shape\n",
      "df1.loc[[2,3,4]]"
     ],
     "language": "python",
     "metadata": {},
     "outputs": [
      {
       "output_type": "stream",
       "stream": "stdout",
       "text": [
        "(4584061, 41)\n"
       ]
      },
      {
       "html": [
        "<div style=\"max-height:1000px;max-width:1500px;overflow:auto;\">\n",
        "<table border=\"1\" class=\"dataframe\">\n",
        "  <thead>\n",
        "    <tr style=\"text-align: right;\">\n",
        "      <th></th>\n",
        "      <th>Id</th>\n",
        "      <th>Label</th>\n",
        "      <th>I1</th>\n",
        "      <th>I2</th>\n",
        "      <th>I3</th>\n",
        "      <th>I4</th>\n",
        "      <th>I5</th>\n",
        "      <th>I6</th>\n",
        "      <th>I7</th>\n",
        "      <th>I8</th>\n",
        "      <th>I9</th>\n",
        "      <th>I10</th>\n",
        "      <th>I11</th>\n",
        "      <th>I12</th>\n",
        "      <th>I13</th>\n",
        "      <th>C1</th>\n",
        "      <th>C2</th>\n",
        "      <th>C3</th>\n",
        "      <th>C4</th>\n",
        "      <th>C5</th>\n",
        "      <th></th>\n",
        "    </tr>\n",
        "  </thead>\n",
        "  <tbody>\n",
        "    <tr>\n",
        "      <th>2</th>\n",
        "      <td> 10000029</td>\n",
        "      <td> 1</td>\n",
        "      <td> 3</td>\n",
        "      <td>   0</td>\n",
        "      <td>  4</td>\n",
        "      <td> 13</td>\n",
        "      <td>  224</td>\n",
        "      <td> 28</td>\n",
        "      <td>  3</td>\n",
        "      <td> 35</td>\n",
        "      <td> 27</td>\n",
        "      <td> 1</td>\n",
        "      <td> 1</td>\n",
        "      <td>NaN</td>\n",
        "      <td> 13</td>\n",
        "      <td> 05db9164</td>\n",
        "      <td> 90081f33</td>\n",
        "      <td> 993f507e</td>\n",
        "      <td> 14a74146</td>\n",
        "      <td> 25c83c98</td>\n",
        "      <td>...</td>\n",
        "    </tr>\n",
        "    <tr>\n",
        "      <th>3</th>\n",
        "      <td> 10000039</td>\n",
        "      <td> 0</td>\n",
        "      <td> 8</td>\n",
        "      <td>   0</td>\n",
        "      <td> 15</td>\n",
        "      <td> 20</td>\n",
        "      <td>  115</td>\n",
        "      <td> 24</td>\n",
        "      <td>  8</td>\n",
        "      <td> 23</td>\n",
        "      <td> 24</td>\n",
        "      <td> 2</td>\n",
        "      <td> 2</td>\n",
        "      <td>NaN</td>\n",
        "      <td> 20</td>\n",
        "      <td> 5a9ed9b0</td>\n",
        "      <td> c66fca21</td>\n",
        "      <td> 78171040</td>\n",
        "      <td> 373c404a</td>\n",
        "      <td> 25c83c98</td>\n",
        "      <td>...</td>\n",
        "    </tr>\n",
        "    <tr>\n",
        "      <th>4</th>\n",
        "      <td> 10000049</td>\n",
        "      <td> 0</td>\n",
        "      <td> 0</td>\n",
        "      <td> 190</td>\n",
        "      <td>NaN</td>\n",
        "      <td>NaN</td>\n",
        "      <td> 1624</td>\n",
        "      <td>  6</td>\n",
        "      <td> 29</td>\n",
        "      <td>  6</td>\n",
        "      <td> 74</td>\n",
        "      <td> 0</td>\n",
        "      <td> 9</td>\n",
        "      <td>NaN</td>\n",
        "      <td>NaN</td>\n",
        "      <td> 68fd1e64</td>\n",
        "      <td> c41a84c8</td>\n",
        "      <td> 0a266224</td>\n",
        "      <td> 759c4a2e</td>\n",
        "      <td> 25c83c98</td>\n",
        "      <td>...</td>\n",
        "    </tr>\n",
        "  </tbody>\n",
        "</table>\n",
        "<p>3 rows \u00d7 41 columns</p>\n",
        "</div>"
       ],
       "metadata": {},
       "output_type": "pyout",
       "prompt_number": 45,
       "text": [
        "         Id  Label  I1   I2  I3  I4    I5  I6  I7  I8  I9  I10  I11  I12  I13  \\\n",
        "2  10000029      1   3    0   4  13   224  28   3  35  27    1    1  NaN   13   \n",
        "3  10000039      0   8    0  15  20   115  24   8  23  24    2    2  NaN   20   \n",
        "4  10000049      0   0  190 NaN NaN  1624   6  29   6  74    0    9  NaN  NaN   \n",
        "\n",
        "         C1        C2        C3        C4        C5      \n",
        "2  05db9164  90081f33  993f507e  14a74146  25c83c98 ...  \n",
        "3  5a9ed9b0  c66fca21  78171040  373c404a  25c83c98 ...  \n",
        "4  68fd1e64  c41a84c8  0a266224  759c4a2e  25c83c98 ...  \n",
        "\n",
        "[3 rows x 41 columns]"
       ]
      }
     ],
     "prompt_number": 45
    },
    {
     "cell_type": "code",
     "collapsed": false,
     "input": [
      "#Build random samples on the dataset\n",
      "l = df1.shape[0]\n",
      "n = 3\n",
      "r1 = np.random.randint(1,n,l)\n",
      "\n",
      "def rand_series(rvec, n):\n",
      "    return map( lambda x: x[0], \\\n",
      "                filter(lambda x: x[1] == n, \\\n",
      "                       [ (i,v) for i,v in enumerate(rvec)] ) )\n",
      "\n",
      "rfit1 = rand_series(r1,1)\n",
      "rtest1 = rand_series(r1,2)\n",
      "print len(rfit1), len(rtest1)\n",
      "print rfit1[:10], '  ', rtest1[:10]\n",
      "    "
     ],
     "language": "python",
     "metadata": {},
     "outputs": [
      {
       "output_type": "stream",
       "stream": "stdout",
       "text": [
        "2292622 2291439\n",
        "[3, 4, 5, 8, 11, 15, 18, 19, 20, 21]    [0, 1, 2, 6, 7, 9, 10, 12, 13, 14]\n"
       ]
      }
     ],
     "prompt_number": 46
    },
    {
     "cell_type": "code",
     "collapsed": false,
     "input": [
      "(df1.iloc[rfit1])[:3]"
     ],
     "language": "python",
     "metadata": {},
     "outputs": [
      {
       "html": [
        "<div style=\"max-height:1000px;max-width:1500px;overflow:auto;\">\n",
        "<table border=\"1\" class=\"dataframe\">\n",
        "  <thead>\n",
        "    <tr style=\"text-align: right;\">\n",
        "      <th></th>\n",
        "      <th>Id</th>\n",
        "      <th>Label</th>\n",
        "      <th>I1</th>\n",
        "      <th>I2</th>\n",
        "      <th>I3</th>\n",
        "      <th>I4</th>\n",
        "      <th>I5</th>\n",
        "      <th>I6</th>\n",
        "      <th>I7</th>\n",
        "      <th>I8</th>\n",
        "      <th>I9</th>\n",
        "      <th>I10</th>\n",
        "      <th>I11</th>\n",
        "      <th>I12</th>\n",
        "      <th>I13</th>\n",
        "      <th>C1</th>\n",
        "      <th>C2</th>\n",
        "      <th>C3</th>\n",
        "      <th>C4</th>\n",
        "      <th>C5</th>\n",
        "      <th></th>\n",
        "    </tr>\n",
        "  </thead>\n",
        "  <tbody>\n",
        "    <tr>\n",
        "      <th>3</th>\n",
        "      <td> 10000039</td>\n",
        "      <td> 0</td>\n",
        "      <td>  8</td>\n",
        "      <td>   0</td>\n",
        "      <td> 15</td>\n",
        "      <td> 20</td>\n",
        "      <td>  115</td>\n",
        "      <td>  24</td>\n",
        "      <td>  8</td>\n",
        "      <td> 23</td>\n",
        "      <td>  24</td>\n",
        "      <td>  2</td>\n",
        "      <td> 2</td>\n",
        "      <td>NaN</td>\n",
        "      <td> 20</td>\n",
        "      <td> 5a9ed9b0</td>\n",
        "      <td> c66fca21</td>\n",
        "      <td> 78171040</td>\n",
        "      <td> 373c404a</td>\n",
        "      <td> 25c83c98</td>\n",
        "      <td>...</td>\n",
        "    </tr>\n",
        "    <tr>\n",
        "      <th>4</th>\n",
        "      <td> 10000049</td>\n",
        "      <td> 0</td>\n",
        "      <td>  0</td>\n",
        "      <td> 190</td>\n",
        "      <td>NaN</td>\n",
        "      <td>NaN</td>\n",
        "      <td> 1624</td>\n",
        "      <td>   6</td>\n",
        "      <td> 29</td>\n",
        "      <td>  6</td>\n",
        "      <td>  74</td>\n",
        "      <td>  0</td>\n",
        "      <td> 9</td>\n",
        "      <td>NaN</td>\n",
        "      <td>NaN</td>\n",
        "      <td> 68fd1e64</td>\n",
        "      <td> c41a84c8</td>\n",
        "      <td> 0a266224</td>\n",
        "      <td> 759c4a2e</td>\n",
        "      <td> 25c83c98</td>\n",
        "      <td>...</td>\n",
        "    </tr>\n",
        "    <tr>\n",
        "      <th>5</th>\n",
        "      <td> 10000059</td>\n",
        "      <td> 0</td>\n",
        "      <td>NaN</td>\n",
        "      <td>   0</td>\n",
        "      <td> 20</td>\n",
        "      <td>  0</td>\n",
        "      <td> 4412</td>\n",
        "      <td> 855</td>\n",
        "      <td>  0</td>\n",
        "      <td>  4</td>\n",
        "      <td> 522</td>\n",
        "      <td>NaN</td>\n",
        "      <td> 0</td>\n",
        "      <td>NaN</td>\n",
        "      <td>  5</td>\n",
        "      <td> 05db9164</td>\n",
        "      <td> 58e67aaf</td>\n",
        "      <td> 54e3c628</td>\n",
        "      <td> 9725d851</td>\n",
        "      <td> 25c83c98</td>\n",
        "      <td>...</td>\n",
        "    </tr>\n",
        "  </tbody>\n",
        "</table>\n",
        "<p>3 rows \u00d7 41 columns</p>\n",
        "</div>"
       ],
       "metadata": {},
       "output_type": "pyout",
       "prompt_number": 48,
       "text": [
        "         Id  Label  I1   I2  I3  I4    I5   I6  I7  I8   I9  I10  I11  I12  \\\n",
        "3  10000039      0   8    0  15  20   115   24   8  23   24    2    2  NaN   \n",
        "4  10000049      0   0  190 NaN NaN  1624    6  29   6   74    0    9  NaN   \n",
        "5  10000059      0 NaN    0  20   0  4412  855   0   4  522  NaN    0  NaN   \n",
        "\n",
        "   I13        C1        C2        C3        C4        C5      \n",
        "3   20  5a9ed9b0  c66fca21  78171040  373c404a  25c83c98 ...  \n",
        "4  NaN  68fd1e64  c41a84c8  0a266224  759c4a2e  25c83c98 ...  \n",
        "5    5  05db9164  58e67aaf  54e3c628  9725d851  25c83c98 ...  \n",
        "\n",
        "[3 rows x 41 columns]"
       ]
      }
     ],
     "prompt_number": 48
    },
    {
     "cell_type": "code",
     "collapsed": false,
     "input": [
      "import pickle"
     ],
     "language": "python",
     "metadata": {},
     "outputs": [],
     "prompt_number": 49
    },
    {
     "cell_type": "code",
     "collapsed": false,
     "input": [
      "pickle.dump(rfit1,open('../../data/pickle/LR2_rfit1.p', 'w'))\n",
      "pickle.dump(rtest1,open('../../data/pickle/LR2_rtest1.p', 'w'))\n"
     ],
     "language": "python",
     "metadata": {},
     "outputs": [],
     "prompt_number": 55
    },
    {
     "cell_type": "code",
     "collapsed": false,
     "input": [],
     "language": "python",
     "metadata": {},
     "outputs": []
    },
    {
     "cell_type": "code",
     "collapsed": false,
     "input": [
      "df_names = df1.columns.values\n",
      "df_ints = filter(lambda x: ('I' in x) & (~('Id' in x)),df_names)\n",
      "str(df_ints)"
     ],
     "language": "python",
     "metadata": {},
     "outputs": [
      {
       "metadata": {},
       "output_type": "pyout",
       "prompt_number": 56,
       "text": [
        "\"['I1', 'I2', 'I3', 'I4', 'I5', 'I6', 'I7', 'I8', 'I9', 'I10', 'I11', 'I12', 'I13']\""
       ]
      }
     ],
     "prompt_number": 56
    },
    {
     "cell_type": "code",
     "collapsed": false,
     "input": [
      "from sklearn.preprocessing import Imputer"
     ],
     "language": "python",
     "metadata": {},
     "outputs": [],
     "prompt_number": 57
    },
    {
     "cell_type": "code",
     "collapsed": false,
     "input": [
      "imp = Imputer(missing_values='NaN', strategy = 'mean', axis =0)\n",
      "imp.fit(df1[df_ints])\n",
      "df_n = imp.transform(df1[df_ints])\n",
      "X = pd.DataFrame(df_n, columns = df_ints) #, columns = my_cols)\n",
      "print X.shape\n",
      "X.iloc[[1,2,3]]"
     ],
     "language": "python",
     "metadata": {},
     "outputs": [
      {
       "html": [
        "<div style=\"max-height:1000px;max-width:1500px;overflow:auto;\">\n",
        "<table border=\"1\" class=\"dataframe\">\n",
        "  <thead>\n",
        "    <tr style=\"text-align: right;\">\n",
        "      <th></th>\n",
        "      <th>I1</th>\n",
        "      <th>I2</th>\n",
        "      <th>I3</th>\n",
        "      <th>I4</th>\n",
        "      <th>I5</th>\n",
        "      <th>I6</th>\n",
        "      <th>I7</th>\n",
        "      <th>I8</th>\n",
        "      <th>I9</th>\n",
        "      <th>I10</th>\n",
        "      <th>I11</th>\n",
        "      <th>I12</th>\n",
        "      <th>I13</th>\n",
        "    </tr>\n",
        "  </thead>\n",
        "  <tbody>\n",
        "    <tr>\n",
        "      <th>1</th>\n",
        "      <td> 7</td>\n",
        "      <td> 102</td>\n",
        "      <td> 26.586242</td>\n",
        "      <td>  3</td>\n",
        "      <td> 780</td>\n",
        "      <td> 15</td>\n",
        "      <td> 7</td>\n",
        "      <td> 15</td>\n",
        "      <td> 15</td>\n",
        "      <td> 1</td>\n",
        "      <td> 1</td>\n",
        "      <td> 0.986007</td>\n",
        "      <td>  3</td>\n",
        "    </tr>\n",
        "    <tr>\n",
        "      <th>2</th>\n",
        "      <td> 3</td>\n",
        "      <td>   0</td>\n",
        "      <td>  4.000000</td>\n",
        "      <td> 13</td>\n",
        "      <td> 224</td>\n",
        "      <td> 28</td>\n",
        "      <td> 3</td>\n",
        "      <td> 35</td>\n",
        "      <td> 27</td>\n",
        "      <td> 1</td>\n",
        "      <td> 1</td>\n",
        "      <td> 0.986007</td>\n",
        "      <td> 13</td>\n",
        "    </tr>\n",
        "    <tr>\n",
        "      <th>3</th>\n",
        "      <td> 8</td>\n",
        "      <td>   0</td>\n",
        "      <td> 15.000000</td>\n",
        "      <td> 20</td>\n",
        "      <td> 115</td>\n",
        "      <td> 24</td>\n",
        "      <td> 8</td>\n",
        "      <td> 23</td>\n",
        "      <td> 24</td>\n",
        "      <td> 2</td>\n",
        "      <td> 2</td>\n",
        "      <td> 0.986007</td>\n",
        "      <td> 20</td>\n",
        "    </tr>\n",
        "  </tbody>\n",
        "</table>\n",
        "<p>3 rows \u00d7 13 columns</p>\n",
        "</div>"
       ],
       "metadata": {},
       "output_type": "pyout",
       "prompt_number": 91,
       "text": [
        "   I1   I2         I3  I4   I5  I6  I7  I8  I9  I10  I11       I12  I13\n",
        "1   7  102  26.586242   3  780  15   7  15  15    1    1  0.986007    3\n",
        "2   3    0   4.000000  13  224  28   3  35  27    1    1  0.986007   13\n",
        "3   8    0  15.000000  20  115  24   8  23  24    2    2  0.986007   20\n",
        "\n",
        "[3 rows x 13 columns]"
       ]
      }
     ],
     "prompt_number": 91
    },
    {
     "cell_type": "code",
     "collapsed": false,
     "input": [
      "pickle.dump(X,open('../../data/pickle/LR2_X.p', 'w'))"
     ],
     "language": "python",
     "metadata": {},
     "outputs": [],
     "prompt_number": 60
    },
    {
     "cell_type": "code",
     "collapsed": false,
     "input": [
      "Y = df1['Label']"
     ],
     "language": "python",
     "metadata": {},
     "outputs": [],
     "prompt_number": 61
    },
    {
     "cell_type": "code",
     "collapsed": false,
     "input": [],
     "language": "python",
     "metadata": {},
     "outputs": []
    },
    {
     "cell_type": "code",
     "collapsed": false,
     "input": [
      "print np.mean(Y.iloc[rfit1])\n",
      "print np.mean(Y.iloc[rtest1])"
     ],
     "language": "python",
     "metadata": {},
     "outputs": [
      {
       "output_type": "stream",
       "stream": "stdout",
       "text": [
        "0.256358004067\n",
        "0.25593742622"
       ]
      },
      {
       "output_type": "stream",
       "stream": "stdout",
       "text": [
        "\n"
       ]
      }
     ],
     "prompt_number": 62
    },
    {
     "cell_type": "code",
     "collapsed": false,
     "input": [
      "from err import Err"
     ],
     "language": "python",
     "metadata": {},
     "outputs": [],
     "prompt_number": 63
    },
    {
     "cell_type": "code",
     "collapsed": false,
     "input": [
      "print 'fit baseline : ', \"%0.4f\" % \\\n",
      "        Err.err(Y.iloc[rfit1], [np.mean(Y.iloc[rfit1])] * len(rfit1))\n",
      "print 'test baseline : ', \"%0.4f\" % \\\n",
      "    Err.err(Y.iloc[rtest1], [np.mean(Y.iloc[rfit1])] * len(rtest1))"
     ],
     "language": "python",
     "metadata": {},
     "outputs": [
      {
       "output_type": "stream",
       "stream": "stdout",
       "text": [
        "fit baseline :  "
       ]
      },
      {
       "output_type": "stream",
       "stream": "stdout",
       "text": [
        "0.5692\n",
        "test baseline :  "
       ]
      },
      {
       "output_type": "stream",
       "stream": "stdout",
       "text": [
        "0.5688\n"
       ]
      }
     ],
     "prompt_number": 67
    },
    {
     "cell_type": "code",
     "collapsed": false,
     "input": [
      "ivec = X.columns.values\n",
      "my_args = []\n",
      "\n",
      "for i in ivec:\n",
      "    \n",
      "    a = dict()\n",
      "    a['x'] = X\n",
      "    a['y'] = Y\n",
      "    a['fitrows'] = rfit1\n",
      "    a['testrows'] = rtest1\n",
      "    a['x_cols'] = [i]\n",
      "    my_args.append(a)\n",
      "    \n",
      "str([ i['x_cols'] for i in my_args])"
     ],
     "language": "python",
     "metadata": {},
     "outputs": [
      {
       "metadata": {},
       "output_type": "pyout",
       "prompt_number": 70,
       "text": [
        "\"[['I1'], ['I2'], ['I3'], ['I4'], ['I5'], ['I6'], ['I7'], ['I8'], ['I9'], ['I10'], ['I11'], ['I12'], ['I13']]\""
       ]
      }
     ],
     "prompt_number": 70
    },
    {
     "cell_type": "code",
     "collapsed": false,
     "input": [
      "from mod import Mod\n",
      "#%load_ext autoreload\n",
      "#%autoreload 2"
     ],
     "language": "python",
     "metadata": {},
     "outputs": [],
     "prompt_number": 80
    },
    {
     "cell_type": "code",
     "collapsed": false,
     "input": [
      "mod_out = []\n",
      "i = 0\n",
      "for arg in my_args:\n",
      "    print i\n",
      "    i +1\n",
      "    mod_out.append( Mod.LogReg(**arg) )"
     ],
     "language": "python",
     "metadata": {},
     "outputs": [
      {
       "output_type": "stream",
       "stream": "stdout",
       "text": [
        "0\n",
        "[[ 8.        ]\n",
        " [ 0.        ]\n",
        " [ 3.49061933]\n",
        " ..., \n",
        " [ 3.49061933]\n",
        " [ 3.49061933]\n",
        " [ 3.49061933]]"
       ]
      },
      {
       "output_type": "stream",
       "stream": "stdout",
       "text": [
        "\n",
        "0"
       ]
      },
      {
       "output_type": "stream",
       "stream": "stdout",
       "text": [
        "\n",
        "[[   0.]\n",
        " [ 190.]\n",
        " [   0.]\n",
        " ..., \n",
        " [   3.]\n",
        " [   3.]\n",
        " [  20.]]"
       ]
      },
      {
       "output_type": "stream",
       "stream": "stdout",
       "text": [
        "\n",
        "0"
       ]
      },
      {
       "output_type": "stream",
       "stream": "stdout",
       "text": [
        "\n",
        "[[  15.        ]\n",
        " [  26.58624198]\n",
        " [  20.        ]\n",
        " ..., \n",
        " [   2.        ]\n",
        " [ 336.        ]\n",
        " [  24.        ]]"
       ]
      },
      {
       "output_type": "stream",
       "stream": "stdout",
       "text": [
        "\n",
        "0"
       ]
      },
      {
       "output_type": "stream",
       "stream": "stdout",
       "text": [
        "\n",
        "[[ 20.        ]\n",
        " [  7.32745467]\n",
        " [  0.        ]\n",
        " ..., \n",
        " [  2.        ]\n",
        " [  7.        ]\n",
        " [  4.        ]]"
       ]
      },
      {
       "output_type": "stream",
       "stream": "stdout",
       "text": [
        "\n",
        "0"
       ]
      },
      {
       "output_type": "stream",
       "stream": "stdout",
       "text": [
        "\n",
        "[[  1.15000000e+02]\n",
        " [  1.62400000e+03]\n",
        " [  4.41200000e+03]\n",
        " ..., \n",
        " [  6.36700000e+03]\n",
        " [  1.00000000e+00]\n",
        " [  3.81600000e+03]]"
       ]
      },
      {
       "output_type": "stream",
       "stream": "stdout",
       "text": [
        "\n",
        "0"
       ]
      },
      {
       "output_type": "stream",
       "stream": "stdout",
       "text": [
        "\n",
        "[[  24.        ]\n",
        " [   6.        ]\n",
        " [ 855.        ]\n",
        " ..., \n",
        " [  17.        ]\n",
        " [ 115.80261012]\n",
        " [ 115.80261012]]"
       ]
      },
      {
       "output_type": "stream",
       "stream": "stdout",
       "text": [
        "\n",
        "0"
       ]
      },
      {
       "output_type": "stream",
       "stream": "stdout",
       "text": [
        "\n",
        "[[  8.]\n",
        " [ 29.]\n",
        " [  0.]\n",
        " ..., \n",
        " [ 12.]\n",
        " [  0.]\n",
        " [  0.]]"
       ]
      },
      {
       "output_type": "stream",
       "stream": "stdout",
       "text": [
        "\n",
        "0"
       ]
      },
      {
       "output_type": "stream",
       "stream": "stdout",
       "text": [
        "\n",
        "[[ 23.]\n",
        " [  6.]\n",
        " [  4.]\n",
        " ..., \n",
        " [  3.]\n",
        " [ 20.]\n",
        " [  7.]]"
       ]
      },
      {
       "output_type": "stream",
       "stream": "stdout",
       "text": [
        "\n",
        "0"
       ]
      },
      {
       "output_type": "stream",
       "stream": "stdout",
       "text": [
        "\n",
        "[[  24.]\n",
        " [  74.]\n",
        " [ 522.]\n",
        " ..., \n",
        " [  17.]\n",
        " [ 133.]\n",
        " [ 115.]]"
       ]
      },
      {
       "output_type": "stream",
       "stream": "stdout",
       "text": [
        "\n",
        "0"
       ]
      },
      {
       "output_type": "stream",
       "stream": "stdout",
       "text": [
        "\n",
        "[[ 2.        ]\n",
        " [ 0.        ]\n",
        " [ 0.61755977]\n",
        " ..., \n",
        " [ 0.61755977]\n",
        " [ 0.61755977]\n",
        " [ 0.61755977]]"
       ]
      },
      {
       "output_type": "stream",
       "stream": "stdout",
       "text": [
        "\n",
        "0"
       ]
      },
      {
       "output_type": "stream",
       "stream": "stdout",
       "text": [
        "\n",
        "[[ 2.]\n",
        " [ 9.]\n",
        " [ 0.]\n",
        " ..., \n",
        " [ 1.]\n",
        " [ 0.]\n",
        " [ 0.]]"
       ]
      },
      {
       "output_type": "stream",
       "stream": "stdout",
       "text": [
        "\n",
        "0"
       ]
      },
      {
       "output_type": "stream",
       "stream": "stdout",
       "text": [
        "\n",
        "[[ 0.98600742]\n",
        " [ 0.98600742]\n",
        " [ 0.98600742]\n",
        " ..., \n",
        " [ 0.98600742]\n",
        " [ 0.98600742]\n",
        " [ 0.98600742]]"
       ]
      },
      {
       "output_type": "stream",
       "stream": "stdout",
       "text": [
        "\n",
        "0"
       ]
      },
      {
       "output_type": "stream",
       "stream": "stdout",
       "text": [
        "\n",
        "[[ 20.        ]\n",
        " [  8.22840797]\n",
        " [  5.        ]\n",
        " ..., \n",
        " [  2.        ]\n",
        " [  7.        ]\n",
        " [  7.        ]]"
       ]
      },
      {
       "output_type": "stream",
       "stream": "stdout",
       "text": [
        "\n"
       ]
      }
     ],
     "prompt_number": 81
    },
    {
     "cell_type": "code",
     "collapsed": false,
     "input": [
      "from operator import itemgetter\n",
      "%precision 4\n",
      "#baseline test .5688\n",
      "\n",
      "out = [ (x[1]['x_cols'], x[0]['testerror'])  for x in mod_out]\n",
      "out.sort( key = itemgetter(1), reverse = True)\n",
      "out"
     ],
     "language": "python",
     "metadata": {},
     "outputs": [
      {
       "metadata": {},
       "output_type": "pyout",
       "prompt_number": 88,
       "text": [
        "[(['I5'], 0.6444),\n",
        " (['I3'], 0.5687),\n",
        " (['I9'], 0.5686),\n",
        " (['I8'], 0.5682),\n",
        " (['I2'], 0.5679),\n",
        " (['I12'], 0.5676),\n",
        " (['I4'], 0.5675),\n",
        " (['I1'], 0.5661),\n",
        " (['I7'], 0.5650),\n",
        " (['I13'], 0.5627),\n",
        " (['I10'], 0.5598),\n",
        " (['I6'], 0.5585),\n",
        " (['I11'], 0.5583)]"
       ]
      }
     ],
     "prompt_number": 88
    },
    {
     "cell_type": "code",
     "collapsed": false,
     "input": [
      "Mod.LogReg(**{'x':X,'y':Y})"
     ],
     "language": "python",
     "metadata": {},
     "outputs": [
      {
       "output_type": "stream",
       "stream": "stdout",
       "text": [
        "[[  3.4906e+00   3.5000e+01   2.6586e+01 ...,   1.0000e+00   9.8601e-01\n",
        "    1.0000e+00]\n",
        " [  7.0000e+00   1.0200e+02   2.6586e+01 ...,   1.0000e+00   9.8601e-01\n",
        "    3.0000e+00]\n",
        " [  3.0000e+00   0.0000e+00   4.0000e+00 ...,   1.0000e+00   9.8601e-01\n",
        "    1.3000e+01]\n",
        " ..., \n",
        " [  1.0000e+00   3.4050e+03   3.0000e+00 ...,   1.0000e+00   9.8601e-01\n",
        "    3.0000e+00]\n",
        " [  3.4906e+00   3.0000e+00   3.3600e+02 ...,   0.0000e+00   9.8601e-01\n",
        "    7.0000e+00]\n",
        " [  3.4906e+00   2.0000e+01   2.4000e+01 ...,   0.0000e+00   9.8601e-01\n",
        "    7.0000e+00]]\n"
       ]
      },
      {
       "metadata": {},
       "output_type": "pyout",
       "prompt_number": 90,
       "text": [
        "({'fiterr': 0.5573, 'testerror': 0.5573},\n",
        " {'fit_height': 4584061,\n",
        "  'fit_time': 231.0260,\n",
        "  'fit_width': 13,\n",
        "  'x_cols': array(['I1', 'I2', 'I3', 'I4', 'I5', 'I6', 'I7', 'I8', 'I9', 'I10', 'I11',\n",
        "         'I12', 'I13'], dtype=object)},\n",
        " {'C': 1.0000, 'penalty': 'l2'})"
       ]
      }
     ],
     "prompt_number": 90
    },
    {
     "cell_type": "code",
     "collapsed": false,
     "input": [
      "Mod.LogReg(**{'x':X,'y':Y, 'fitrows':rfit1, 'testrows':rtest1})"
     ],
     "language": "python",
     "metadata": {},
     "outputs": [
      {
       "output_type": "stream",
       "stream": "stdout",
       "text": [
        "[[   8.        0.       15.     ...,    2.        0.986    20.    ]\n",
        " [   0.      190.       26.5862 ...,    9.        0.986     8.2284]\n",
        " [   3.4906    0.       20.     ...,    0.        0.986     5.    ]\n",
        " ..., \n",
        " [   3.4906    3.        2.     ...,    1.        0.986     2.    ]\n",
        " [   3.4906    3.      336.     ...,    0.        0.986     7.    ]\n",
        " [   3.4906   20.       24.     ...,    0.        0.986     7.    ]]\n"
       ]
      },
      {
       "metadata": {},
       "output_type": "pyout",
       "prompt_number": 92,
       "text": [
        "({'fiterr': 0.5589, 'testerror': 0.5589},\n",
        " {'fit_height': 2292622,\n",
        "  'fit_time': 38.5690,\n",
        "  'fit_width': 13,\n",
        "  'x_cols': array(['I1', 'I2', 'I3', 'I4', 'I5', 'I6', 'I7', 'I8', 'I9', 'I10', 'I11',\n",
        "         'I12', 'I13'], dtype=object)},\n",
        " {'C': 1.0000, 'penalty': 'l2'})"
       ]
      }
     ],
     "prompt_number": 92
    },
    {
     "cell_type": "code",
     "collapsed": false,
     "input": [],
     "language": "python",
     "metadata": {},
     "outputs": []
    },
    {
     "cell_type": "code",
     "collapsed": false,
     "input": [
      "ivec = [0.5,1.0,2.0,4.0]\n",
      "jvec = ['l1','l2']\n",
      "kvec = [X.columns.values, ['I11']]\n",
      "my_args = []\n",
      "\n",
      "for i in ivec:\n",
      "    for j in jvec:\n",
      "        for k in kvec:\n",
      "            \n",
      "            a = dict()\n",
      "            a['x'] = X\n",
      "            a['y'] = Y\n",
      "            a['fitrows'] = rfit1\n",
      "            a['testrows'] = rtest1\n",
      "            a['x_cols'] = k\n",
      "            a['C'] = i\n",
      "            a['penalty'] = j\n",
      "            my_args.append(a)\n",
      "#my_args"
     ],
     "language": "python",
     "metadata": {},
     "outputs": [],
     "prompt_number": 95
    },
    {
     "cell_type": "code",
     "collapsed": false,
     "input": [
      "mod_out2 = []\n",
      "i = 0\n",
      "for arg in my_args:\n",
      "    print i\n",
      "    i = i+1\n",
      "    mod_out2.append( Mod.LogReg(**arg) )"
     ],
     "language": "python",
     "metadata": {},
     "outputs": [
      {
       "output_type": "stream",
       "stream": "stdout",
       "text": [
        "0\n",
        "[[   8.        0.       15.     ...,    2.        0.986    20.    ]\n",
        " [   0.      190.       26.5862 ...,    9.        0.986     8.2284]\n",
        " [   3.4906    0.       20.     ...,    0.        0.986     5.    ]\n",
        " ..., \n",
        " [   3.4906    3.        2.     ...,    1.        0.986     2.    ]\n",
        " [   3.4906    3.      336.     ...,    0.        0.986     7.    ]\n",
        " [   3.4906   20.       24.     ...,    0.        0.986     7.    ]]"
       ]
      },
      {
       "output_type": "stream",
       "stream": "stdout",
       "text": [
        "\n",
        "1"
       ]
      },
      {
       "output_type": "stream",
       "stream": "stdout",
       "text": [
        "\n",
        "[[ 2.]\n",
        " [ 9.]\n",
        " [ 0.]\n",
        " ..., \n",
        " [ 1.]\n",
        " [ 0.]\n",
        " [ 0.]]"
       ]
      },
      {
       "output_type": "stream",
       "stream": "stdout",
       "text": [
        "\n",
        "2"
       ]
      },
      {
       "output_type": "stream",
       "stream": "stdout",
       "text": [
        "\n",
        "[[   8.        0.       15.     ...,    2.        0.986    20.    ]\n",
        " [   0.      190.       26.5862 ...,    9.        0.986     8.2284]\n",
        " [   3.4906    0.       20.     ...,    0.        0.986     5.    ]\n",
        " ..., \n",
        " [   3.4906    3.        2.     ...,    1.        0.986     2.    ]\n",
        " [   3.4906    3.      336.     ...,    0.        0.986     7.    ]\n",
        " [   3.4906   20.       24.     ...,    0.        0.986     7.    ]]"
       ]
      },
      {
       "output_type": "stream",
       "stream": "stdout",
       "text": [
        "\n",
        "3"
       ]
      },
      {
       "output_type": "stream",
       "stream": "stdout",
       "text": [
        "\n",
        "[[ 2.]\n",
        " [ 9.]\n",
        " [ 0.]\n",
        " ..., \n",
        " [ 1.]\n",
        " [ 0.]\n",
        " [ 0.]]"
       ]
      },
      {
       "output_type": "stream",
       "stream": "stdout",
       "text": [
        "\n",
        "4"
       ]
      },
      {
       "output_type": "stream",
       "stream": "stdout",
       "text": [
        "\n",
        "[[   8.        0.       15.     ...,    2.        0.986    20.    ]\n",
        " [   0.      190.       26.5862 ...,    9.        0.986     8.2284]\n",
        " [   3.4906    0.       20.     ...,    0.        0.986     5.    ]\n",
        " ..., \n",
        " [   3.4906    3.        2.     ...,    1.        0.986     2.    ]\n",
        " [   3.4906    3.      336.     ...,    0.        0.986     7.    ]\n",
        " [   3.4906   20.       24.     ...,    0.        0.986     7.    ]]"
       ]
      },
      {
       "output_type": "stream",
       "stream": "stdout",
       "text": [
        "\n",
        "5"
       ]
      },
      {
       "output_type": "stream",
       "stream": "stdout",
       "text": [
        "\n",
        "[[ 2.]\n",
        " [ 9.]\n",
        " [ 0.]\n",
        " ..., \n",
        " [ 1.]\n",
        " [ 0.]\n",
        " [ 0.]]"
       ]
      },
      {
       "output_type": "stream",
       "stream": "stdout",
       "text": [
        "\n",
        "6"
       ]
      },
      {
       "output_type": "stream",
       "stream": "stdout",
       "text": [
        "\n",
        "[[   8.        0.       15.     ...,    2.        0.986    20.    ]\n",
        " [   0.      190.       26.5862 ...,    9.        0.986     8.2284]\n",
        " [   3.4906    0.       20.     ...,    0.        0.986     5.    ]\n",
        " ..., \n",
        " [   3.4906    3.        2.     ...,    1.        0.986     2.    ]\n",
        " [   3.4906    3.      336.     ...,    0.        0.986     7.    ]\n",
        " [   3.4906   20.       24.     ...,    0.        0.986     7.    ]]"
       ]
      },
      {
       "output_type": "stream",
       "stream": "stdout",
       "text": [
        "\n",
        "7"
       ]
      },
      {
       "output_type": "stream",
       "stream": "stdout",
       "text": [
        "\n",
        "[[ 2.]\n",
        " [ 9.]\n",
        " [ 0.]\n",
        " ..., \n",
        " [ 1.]\n",
        " [ 0.]\n",
        " [ 0.]]"
       ]
      },
      {
       "output_type": "stream",
       "stream": "stdout",
       "text": [
        "\n",
        "8"
       ]
      },
      {
       "output_type": "stream",
       "stream": "stdout",
       "text": [
        "\n",
        "[[   8.        0.       15.     ...,    2.        0.986    20.    ]\n",
        " [   0.      190.       26.5862 ...,    9.        0.986     8.2284]\n",
        " [   3.4906    0.       20.     ...,    0.        0.986     5.    ]\n",
        " ..., \n",
        " [   3.4906    3.        2.     ...,    1.        0.986     2.    ]\n",
        " [   3.4906    3.      336.     ...,    0.        0.986     7.    ]\n",
        " [   3.4906   20.       24.     ...,    0.        0.986     7.    ]]"
       ]
      },
      {
       "output_type": "stream",
       "stream": "stdout",
       "text": [
        "\n",
        "9"
       ]
      },
      {
       "output_type": "stream",
       "stream": "stdout",
       "text": [
        "\n",
        "[[ 2.]\n",
        " [ 9.]\n",
        " [ 0.]\n",
        " ..., \n",
        " [ 1.]\n",
        " [ 0.]\n",
        " [ 0.]]"
       ]
      },
      {
       "output_type": "stream",
       "stream": "stdout",
       "text": [
        "\n",
        "10"
       ]
      },
      {
       "output_type": "stream",
       "stream": "stdout",
       "text": [
        "\n",
        "[[   8.        0.       15.     ...,    2.        0.986    20.    ]\n",
        " [   0.      190.       26.5862 ...,    9.        0.986     8.2284]\n",
        " [   3.4906    0.       20.     ...,    0.        0.986     5.    ]\n",
        " ..., \n",
        " [   3.4906    3.        2.     ...,    1.        0.986     2.    ]\n",
        " [   3.4906    3.      336.     ...,    0.        0.986     7.    ]\n",
        " [   3.4906   20.       24.     ...,    0.        0.986     7.    ]]"
       ]
      },
      {
       "output_type": "stream",
       "stream": "stdout",
       "text": [
        "\n",
        "11"
       ]
      },
      {
       "output_type": "stream",
       "stream": "stdout",
       "text": [
        "\n",
        "[[ 2.]\n",
        " [ 9.]\n",
        " [ 0.]\n",
        " ..., \n",
        " [ 1.]\n",
        " [ 0.]\n",
        " [ 0.]]"
       ]
      },
      {
       "output_type": "stream",
       "stream": "stdout",
       "text": [
        "\n",
        "12"
       ]
      },
      {
       "output_type": "stream",
       "stream": "stdout",
       "text": [
        "\n",
        "[[   8.        0.       15.     ...,    2.        0.986    20.    ]\n",
        " [   0.      190.       26.5862 ...,    9.        0.986     8.2284]\n",
        " [   3.4906    0.       20.     ...,    0.        0.986     5.    ]\n",
        " ..., \n",
        " [   3.4906    3.        2.     ...,    1.        0.986     2.    ]\n",
        " [   3.4906    3.      336.     ...,    0.        0.986     7.    ]\n",
        " [   3.4906   20.       24.     ...,    0.        0.986     7.    ]]"
       ]
      },
      {
       "output_type": "stream",
       "stream": "stdout",
       "text": [
        "\n",
        "13"
       ]
      },
      {
       "output_type": "stream",
       "stream": "stdout",
       "text": [
        "\n",
        "[[ 2.]\n",
        " [ 9.]\n",
        " [ 0.]\n",
        " ..., \n",
        " [ 1.]\n",
        " [ 0.]\n",
        " [ 0.]]"
       ]
      },
      {
       "output_type": "stream",
       "stream": "stdout",
       "text": [
        "\n",
        "14"
       ]
      },
      {
       "output_type": "stream",
       "stream": "stdout",
       "text": [
        "\n",
        "[[   8.        0.       15.     ...,    2.        0.986    20.    ]\n",
        " [   0.      190.       26.5862 ...,    9.        0.986     8.2284]\n",
        " [   3.4906    0.       20.     ...,    0.        0.986     5.    ]\n",
        " ..., \n",
        " [   3.4906    3.        2.     ...,    1.        0.986     2.    ]\n",
        " [   3.4906    3.      336.     ...,    0.        0.986     7.    ]\n",
        " [   3.4906   20.       24.     ...,    0.        0.986     7.    ]]"
       ]
      },
      {
       "output_type": "stream",
       "stream": "stdout",
       "text": [
        "\n",
        "15"
       ]
      },
      {
       "output_type": "stream",
       "stream": "stdout",
       "text": [
        "\n",
        "[[ 2.]\n",
        " [ 9.]\n",
        " [ 0.]\n",
        " ..., \n",
        " [ 1.]\n",
        " [ 0.]\n",
        " [ 0.]]"
       ]
      },
      {
       "output_type": "stream",
       "stream": "stdout",
       "text": [
        "\n"
       ]
      }
     ],
     "prompt_number": 96
    },
    {
     "cell_type": "code",
     "collapsed": false,
     "input": [
      "%precision 4\n",
      "#baseline test .5688\n",
      "#(map( lambda x: 'one' if x[0] == 'I11' else 'all' , \\\n",
      "#                     x[1]['x_cols']), \\\n",
      "\n",
      "out2 = [ ( x[1]['x_cols'][0], \\\n",
      "         x[2]['C'], x[2]['penalty'], \\\n",
      "         x[0]['testerror'])  for x in mod_out2]\n",
      "out2.sort( key = itemgetter(3), reverse = True)\n",
      "out2"
     ],
     "language": "python",
     "metadata": {},
     "outputs": [
      {
       "metadata": {},
       "output_type": "pyout",
       "prompt_number": 104,
       "text": [
        "[('I1', 0.5000, 'l2', 0.5590),\n",
        " ('I1', 1.0000, 'l2', 0.5589),\n",
        " ('I11', 0.5000, 'l1', 0.5583),\n",
        " ('I11', 4.0000, 'l1', 0.5583),\n",
        " ('I11', 0.5000, 'l2', 0.5583),\n",
        " ('I11', 1.0000, 'l1', 0.5583),\n",
        " ('I11', 1.0000, 'l2', 0.5583),\n",
        " ('I11', 2.0000, 'l2', 0.5583),\n",
        " ('I11', 4.0000, 'l2', 0.5583),\n",
        " ('I11', 2.0000, 'l1', 0.5583),\n",
        " ('I1', 2.0000, 'l2', 0.5580),\n",
        " ('I1', 4.0000, 'l2', 0.5566),\n",
        " ('I1', 0.5000, 'l1', 0.5385),\n",
        " ('I1', 4.0000, 'l1', 0.5385),\n",
        " ('I1', 1.0000, 'l1', 0.5385),\n",
        " ('I1', 2.0000, 'l1', 0.5385)]"
       ]
      }
     ],
     "prompt_number": 104
    },
    {
     "cell_type": "code",
     "collapsed": false,
     "input": [
      "#nice - new baseline .5385!"
     ],
     "language": "python",
     "metadata": {},
     "outputs": [],
     "prompt_number": 105
    },
    {
     "cell_type": "code",
     "collapsed": false,
     "input": [
      "from __future__ import division\n",
      "\n",
      "ivec = [ int( len(rfit1) / x ) for x in [10,5,2,1] ]\n",
      "\n",
      "my_args = []\n",
      "\n",
      "for i in ivec:\n",
      "\n",
      "    a = dict()\n",
      "    a['x'] = X\n",
      "    a['y'] = Y\n",
      "    a['fitrows'] = rfit1[:i]\n",
      "    a['testrows'] = rtest1\n",
      "    #a['x_cols'] = k\n",
      "    a['C'] = 1.0\n",
      "    a['penalty'] = 'l1'\n",
      "    my_args.append(a)\n",
      "\n",
      "[ len(x['fitrows']) for x in my_args]"
     ],
     "language": "python",
     "metadata": {},
     "outputs": [
      {
       "metadata": {},
       "output_type": "pyout",
       "prompt_number": 106,
       "text": [
        "[229262, 458524, 1146311, 2292622]"
       ]
      }
     ],
     "prompt_number": 106
    },
    {
     "cell_type": "code",
     "collapsed": false,
     "input": [
      "mod_out3 = []\n",
      "i = 0\n",
      "for arg in my_args:\n",
      "    print i\n",
      "    i = i+1\n",
      "    mod_out3.append( Mod.LogReg(**arg) )"
     ],
     "language": "python",
     "metadata": {},
     "outputs": [
      {
       "output_type": "stream",
       "stream": "stdout",
       "text": [
        "0\n",
        "[[   8.        0.       15.     ...,    2.        0.986    20.    ]\n",
        " [   0.      190.       26.5862 ...,    9.        0.986     8.2284]\n",
        " [   3.4906    0.       20.     ...,    0.        0.986     5.    ]\n",
        " ..., \n",
        " [  12.       39.        3.     ...,   12.        0.986     3.    ]\n",
        " [   4.       44.        3.     ...,    3.        0.986     2.    ]\n",
        " [   3.4906    2.       26.5862 ...,    4.        0.        2.    ]]"
       ]
      },
      {
       "output_type": "stream",
       "stream": "stdout",
       "text": [
        "\n",
        "1"
       ]
      },
      {
       "output_type": "stream",
       "stream": "stdout",
       "text": [
        "\n",
        "[[  8.0000e+00   0.0000e+00   1.5000e+01 ...,   2.0000e+00   9.8601e-01\n",
        "    2.0000e+01]\n",
        " [  0.0000e+00   1.9000e+02   2.6586e+01 ...,   9.0000e+00   9.8601e-01\n",
        "    8.2284e+00]\n",
        " [  3.4906e+00   0.0000e+00   2.0000e+01 ...,   0.0000e+00   9.8601e-01\n",
        "    5.0000e+00]\n",
        " ..., \n",
        " [  1.0000e+00   0.0000e+00   2.0000e+00 ...,   1.0000e+00   9.8601e-01\n",
        "    0.0000e+00]\n",
        " [  2.0000e+00   1.0000e+00   1.0000e+00 ...,   3.0000e+00   1.0000e+00\n",
        "    0.0000e+00]\n",
        " [  3.4906e+00   2.6970e+03   1.0000e+00 ...,   0.0000e+00   9.8601e-01\n",
        "    8.2284e+00]]"
       ]
      },
      {
       "output_type": "stream",
       "stream": "stdout",
       "text": [
        "\n",
        "2"
       ]
      },
      {
       "output_type": "stream",
       "stream": "stdout",
       "text": [
        "\n",
        "[[   8.        0.       15.     ...,    2.        0.986    20.    ]\n",
        " [   0.      190.       26.5862 ...,    9.        0.986     8.2284]\n",
        " [   3.4906    0.       20.     ...,    0.        0.986     5.    ]\n",
        " ..., \n",
        " [   1.        0.       26.5862 ...,    1.        0.986     8.2284]\n",
        " [   1.      353.        2.     ...,    4.        4.        2.    ]\n",
        " [   3.4906    1.        8.     ...,    0.        0.986     1.    ]]"
       ]
      },
      {
       "output_type": "stream",
       "stream": "stdout",
       "text": [
        "\n",
        "3"
       ]
      },
      {
       "output_type": "stream",
       "stream": "stdout",
       "text": [
        "\n",
        "[[   8.        0.       15.     ...,    2.        0.986    20.    ]\n",
        " [   0.      190.       26.5862 ...,    9.        0.986     8.2284]\n",
        " [   3.4906    0.       20.     ...,    0.        0.986     5.    ]\n",
        " ..., \n",
        " [   3.4906    3.        2.     ...,    1.        0.986     2.    ]\n",
        " [   3.4906    3.      336.     ...,    0.        0.986     7.    ]\n",
        " [   3.4906   20.       24.     ...,    0.        0.986     7.    ]]"
       ]
      },
      {
       "output_type": "stream",
       "stream": "stdout",
       "text": [
        "\n"
       ]
      }
     ],
     "prompt_number": 107
    },
    {
     "cell_type": "code",
     "collapsed": false,
     "input": [
      "%precision 4\n",
      "#baseline test .5688\n",
      "#(map( lambda x: 'one' if x[0] == 'I11' else 'all' , \\\n",
      "#                     x[1]['x_cols']), \\\n",
      "\n",
      "out3 = [ ( x[1]['fit_height'], \\\n",
      "           x[0]['testerror'], \\\n",
      "           x[0]['fiterr'],)  for x in mod_out3]\n",
      "out3.sort( key = itemgetter(1), reverse = True)\n",
      "out3"
     ],
     "language": "python",
     "metadata": {},
     "outputs": [
      {
       "metadata": {},
       "output_type": "pyout",
       "prompt_number": 111,
       "text": [
        "[(229262, 0.5391, 0.5324),\n",
        " (458524, 0.5386, 0.5331),\n",
        " (1146311, 0.5385, 0.5369),\n",
        " (2292622, 0.5385, 0.5386)]"
       ]
      }
     ],
     "prompt_number": 111
    },
    {
     "cell_type": "code",
     "collapsed": false,
     "input": [
      "#fitrows = 400k is sufficient to fit this model\n",
      "#why does test error increase in each? because fiterr is from only the first n-smaples of fit interval\n"
     ],
     "language": "python",
     "metadata": {},
     "outputs": [],
     "prompt_number": 112
    },
    {
     "cell_type": "code",
     "collapsed": false,
     "input": [
      "ivec = [  (1146311 + 458524 + 229262), (1146311 + 458524), 1146311, 0 ]\n",
      "\n",
      "my_args = []\n",
      "\n",
      "for i in ivec:\n",
      "\n",
      "    a = dict()\n",
      "    a['x'] = X\n",
      "    a['y'] = Y\n",
      "    a['fitrows'] = rfit1[i:]\n",
      "    a['testrows'] = rtest1\n",
      "    #a['x_cols'] = k\n",
      "    a['C'] = 1.0\n",
      "    a['penalty'] = 'l1'\n",
      "    my_args.append(a)\n",
      "\n",
      "[ len(x['fitrows']) for x in my_args]"
     ],
     "language": "python",
     "metadata": {},
     "outputs": [
      {
       "metadata": {},
       "output_type": "pyout",
       "prompt_number": 114,
       "text": [
        "[458525, 687787, 1146311, 2292622]"
       ]
      }
     ],
     "prompt_number": 114
    },
    {
     "cell_type": "code",
     "collapsed": false,
     "input": [
      "mod_out3 = []\n",
      "i = 0\n",
      "for arg in my_args:\n",
      "    print i\n",
      "    i = i+1\n",
      "    mod_out3.append( Mod.LogReg(**arg) )\n",
      "\n",
      "%precision 4\n",
      "#baseline test .5688\n",
      "#(map( lambda x: 'one' if x[0] == 'I11' else 'all' , \\\n",
      "#                     x[1]['x_cols']), \\\n",
      "\n",
      "out3 = [ ( x[1]['fit_height'], \\\n",
      "           x[0]['testerror'], \\\n",
      "           x[0]['fiterr'],)  for x in mod_out3]\n",
      "out3.sort( key = itemgetter(1), reverse = True)\n",
      "out3"
     ],
     "language": "python",
     "metadata": {},
     "outputs": [
      {
       "output_type": "stream",
       "stream": "stdout",
       "text": [
        "0\n",
        "[[   1.        0.        4.     ...,    1.        0.986     0.    ]\n",
        " [   1.        1.       10.     ...,    1.        0.986     4.    ]\n",
        " [   3.4906    0.       14.     ...,    1.        0.986    10.    ]\n",
        " ..., \n",
        " [   3.4906    3.        2.     ...,    1.        0.986     2.    ]\n",
        " [   3.4906    3.      336.     ...,    0.        0.986     7.    ]\n",
        " [   3.4906   20.       24.     ...,    0.        0.986     7.    ]]"
       ]
      },
      {
       "output_type": "stream",
       "stream": "stdout",
       "text": [
        "\n",
        "1"
       ]
      },
      {
       "output_type": "stream",
       "stream": "stdout",
       "text": [
        "\n",
        "[[  1.0000e+00   1.0000e+00   6.0000e+00 ...,   3.0000e+00   9.8601e-01\n",
        "    1.3000e+01]\n",
        " [  9.0000e+00   2.4000e+02   2.6586e+01 ...,   1.0000e+00   0.0000e+00\n",
        "    0.0000e+00]\n",
        " [  5.0000e+00   5.2490e+03   9.6000e+01 ...,   1.0000e+00   9.8601e-01\n",
        "    0.0000e+00]\n",
        " ..., \n",
        " [  3.4906e+00   3.0000e+00   2.0000e+00 ...,   1.0000e+00   9.8601e-01\n",
        "    2.0000e+00]\n",
        " [  3.4906e+00   3.0000e+00   3.3600e+02 ...,   0.0000e+00   9.8601e-01\n",
        "    7.0000e+00]\n",
        " [  3.4906e+00   2.0000e+01   2.4000e+01 ...,   0.0000e+00   9.8601e-01\n",
        "    7.0000e+00]]"
       ]
      },
      {
       "output_type": "stream",
       "stream": "stdout",
       "text": [
        "\n",
        "2"
       ]
      },
      {
       "output_type": "stream",
       "stream": "stdout",
       "text": [
        "\n",
        "[[  3.4906e+00   1.5500e+02   2.0000e+01 ...,   0.0000e+00   9.8601e-01\n",
        "    6.0000e+01]\n",
        " [  6.4000e+01  -1.0000e+00   2.6586e+01 ...,   1.0000e+00   1.1000e+01\n",
        "    8.2284e+00]\n",
        " [  1.0000e+00   2.7820e+03   2.6586e+01 ...,   2.0000e+00   9.8601e-01\n",
        "    3.0000e+00]\n",
        " ..., \n",
        " [  3.4906e+00   3.0000e+00   2.0000e+00 ...,   1.0000e+00   9.8601e-01\n",
        "    2.0000e+00]\n",
        " [  3.4906e+00   3.0000e+00   3.3600e+02 ...,   0.0000e+00   9.8601e-01\n",
        "    7.0000e+00]\n",
        " [  3.4906e+00   2.0000e+01   2.4000e+01 ...,   0.0000e+00   9.8601e-01\n",
        "    7.0000e+00]]"
       ]
      },
      {
       "output_type": "stream",
       "stream": "stdout",
       "text": [
        "\n",
        "3"
       ]
      },
      {
       "output_type": "stream",
       "stream": "stdout",
       "text": [
        "\n",
        "[[   8.        0.       15.     ...,    2.        0.986    20.    ]\n",
        " [   0.      190.       26.5862 ...,    9.        0.986     8.2284]\n",
        " [   3.4906    0.       20.     ...,    0.        0.986     5.    ]\n",
        " ..., \n",
        " [   3.4906    3.        2.     ...,    1.        0.986     2.    ]\n",
        " [   3.4906    3.      336.     ...,    0.        0.986     7.    ]\n",
        " [   3.4906   20.       24.     ...,    0.        0.986     7.    ]]"
       ]
      },
      {
       "output_type": "stream",
       "stream": "stdout",
       "text": [
        "\n"
       ]
      },
      {
       "metadata": {},
       "output_type": "pyout",
       "prompt_number": 115,
       "text": [
        "[(458525, 0.5386, 0.5386),\n",
        " (687787, 0.5385, 0.5399),\n",
        " (1146311, 0.5385, 0.5403),\n",
        " (2292622, 0.5385, 0.5386)]"
       ]
      }
     ],
     "prompt_number": 115
    },
    {
     "cell_type": "code",
     "collapsed": false,
     "input": [
      "# linear regression baseline = .485\n",
      "# num50 = .470\n",
      "\n",
      "#ahh so the random sample is built incorrectly as it preserves order\n",
      "# should do the sorting random sample\n"
     ],
     "language": "python",
     "metadata": {},
     "outputs": []
    }
   ],
   "metadata": {}
  }
 ]
}