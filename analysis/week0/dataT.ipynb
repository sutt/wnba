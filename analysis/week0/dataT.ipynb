{
 "metadata": {
  "name": "",
  "signature": "sha256:c3d9cfd71fe6f9662ac9820923f4ef1d1acfcc98c2b3bc3bdfdd97cdcdd6464a"
 },
 "nbformat": 3,
 "nbformat_minor": 0,
 "worksheets": [
  {
   "cells": [
    {
     "cell_type": "code",
     "collapsed": false,
     "input": [
      "import numpy as np"
     ],
     "language": "python",
     "metadata": {},
     "outputs": [],
     "prompt_number": 2
    },
    {
     "cell_type": "code",
     "collapsed": false,
     "input": [
      "little = np.genfromtxt('sub1/sub2/training_1.csv', \\\n",
      "                       skiprows = 1, \\\n",
      "                       delimiter = (','), \\\n",
      "                       usecols = (0,15), \\\n",
      "                       dtype = [('id',int), ('c1','|S8')] )"
     ],
     "language": "python",
     "metadata": {},
     "outputs": [],
     "prompt_number": 8
    },
    {
     "cell_type": "code",
     "collapsed": false,
     "input": [
      "big = np.genfromtxt('sub1/training_1.csv', \\\n",
      "                       skiprows = 1, \\\n",
      "                       delimiter = (','), \\\n",
      "                       usecols = (0,15), \\\n",
      "                       dtype = [('id',int), ('c1','|S8')] )"
     ],
     "language": "python",
     "metadata": {},
     "outputs": [],
     "prompt_number": 3
    },
    {
     "cell_type": "code",
     "collapsed": false,
     "input": [
      "littles = [x[1] for x in little]"
     ],
     "language": "python",
     "metadata": {},
     "outputs": [],
     "prompt_number": 25
    },
    {
     "cell_type": "code",
     "collapsed": false,
     "input": [
      "bigs = [x[1] for x in big]"
     ],
     "language": "python",
     "metadata": {},
     "outputs": []
    },
    {
     "cell_type": "code",
     "collapsed": false,
     "input": [
      "def dproc(l_feat)\n",
      "d = {}\n",
      "ind = 0\n",
      "\n",
      "for i in l_feat:\n",
      "    if d.has_key(i):\n",
      "        d[i] = ( (d[i])[0], (d[i])[1] + 1)\n",
      "    else:\n",
      "        ind += 1\n",
      "        d.update({i:(ind,1)})\n",
      "        print ind\n",
      "return d"
     ],
     "language": "python",
     "metadata": {},
     "outputs": []
    },
    {
     "cell_type": "code",
     "collapsed": false,
     "input": [
      "my_dick = {}"
     ],
     "language": "python",
     "metadata": {},
     "outputs": [],
     "prompt_number": 11
    },
    {
     "cell_type": "code",
     "collapsed": false,
     "input": [
      "tester = ['j','a','j','c','c','b','a']"
     ],
     "language": "python",
     "metadata": {},
     "outputs": [],
     "prompt_number": 14
    },
    {
     "cell_type": "code",
     "collapsed": false,
     "input": [
      "my_dick = {}\n",
      "ind = 0\n",
      "for i in tester:\n",
      "    if my_dick.has_key(i):\n",
      "        my_dick[i] = ( (my_dick[i])[0], (my_dick[i])[1] + 1)\n",
      "    else:\n",
      "        ind += 1\n",
      "        my_dick.update({i:(ind,1)})\n",
      "\n",
      "my_dick"
     ],
     "language": "python",
     "metadata": {},
     "outputs": [
      {
       "metadata": {},
       "output_type": "pyout",
       "prompt_number": 21,
       "text": [
        "{'a': (2, 2), 'b': (4, 1), 'c': (3, 2), 'j': (1, 2)}"
       ]
      }
     ],
     "prompt_number": 21
    },
    {
     "cell_type": "code",
     "collapsed": false,
     "input": [
      "map(lambda x: my_dick[x],tester)"
     ],
     "language": "python",
     "metadata": {},
     "outputs": [
      {
       "metadata": {},
       "output_type": "pyout",
       "prompt_number": 22,
       "text": [
        "[(1, 2), (2, 2), (1, 2), (3, 2), (3, 2), (4, 1), (2, 2)]"
       ]
      }
     ],
     "prompt_number": 22
    },
    {
     "cell_type": "code",
     "collapsed": false,
     "input": [
      "len(little)"
     ],
     "language": "python",
     "metadata": {},
     "outputs": [
      {
       "metadata": {},
       "output_type": "pyout",
       "prompt_number": 23,
       "text": [
        "458406"
       ]
      }
     ],
     "prompt_number": 23
    },
    {
     "cell_type": "code",
     "collapsed": false,
     "input": [
      "with (open('sub1/sub2/training_1.csv')) as f:\n",
      "    i,line in enumerate(f):\n",
      "        for j,val in enumerate(line):\n",
      "            \n",
      "\n"
     ],
     "language": "python",
     "metadata": {},
     "outputs": [
      {
       "metadata": {},
       "output_type": "pyout",
       "prompt_number": 9,
       "text": [
        "(458406L,)"
       ]
      }
     ],
     "prompt_number": 9
    },
    {
     "cell_type": "code",
     "collapsed": false,
     "input": [
      "little"
     ],
     "language": "python",
     "metadata": {},
     "outputs": [
      {
       "metadata": {},
       "output_type": "pyout",
       "prompt_number": 10,
       "text": [
        "array([(10000099, '05db9164'), (10000199, 'be589b51'),\n",
        "       (10000299, '05db9164'), ..., (55840399, '68fd1e64'),\n",
        "       (55840499, '05db9164'), (55840599, '05db9164')], \n",
        "      dtype=[('id', '<i4'), ('c1', 'S8')])"
       ]
      }
     ],
     "prompt_number": 10
    },
    {
     "cell_type": "code",
     "collapsed": false,
     "input": [],
     "language": "python",
     "metadata": {},
     "outputs": []
    }
   ],
   "metadata": {}
  }
 ]
}